{
 "cells": [
  {
   "cell_type": "markdown",
   "id": "intellectual-humor",
   "metadata": {},
   "source": [
    "## Actividad 1\n",
    "### Uriel Ferro\n",
    "#### Marzo 2023"
   ]
  },
  {
   "cell_type": "markdown",
   "id": "southwest-learning",
   "metadata": {},
   "source": [
    "### A1 - Ficheros\n",
    "- Descarga datos mediante la siguiente url https://raw.githubusercontent.com/grammakov/USA-cities-and-states/master/us_cities_states_counties.csv\n",
    "- Imprimir el número de ciudades que tiene el estado de Florida\n",
    "- Resolver el problema de dos maneras distintas, una usando pandas y otra sin usar ninguna librería (solo Python standard)"
   ]
  },
  {
   "cell_type": "markdown",
   "id": "38228aab-5f2d-4eab-bf90-66c40ef29124",
   "metadata": {},
   "source": [
    "#### Solución sin usar ninguna librería (solo Python Standard)\n"
   ]
  },
  {
   "cell_type": "code",
   "execution_count": 16,
   "id": "64a31b16-c2bd-46eb-99da-d63a12c1f260",
   "metadata": {},
   "outputs": [
    {
     "name": "stdout",
     "output_type": "stream",
     "text": [
      "Número de ciudades en Florida: 537\n"
     ]
    }
   ],
   "source": [
    "import requests \n",
    "\n",
    "url = 'https://raw.githubusercontent.com/grammakov/USA-cities-and-states/master/us_cities_states_counties.csv'\n",
    "response = requests.get(url)\n",
    "\n",
    "with open('us_cities_states_counties.csv', 'wb') as file:\n",
    "    file.write(response.content)\n",
    "    \n",
    "florida_cities = set()\n",
    "with open('us_cities_states_counties.csv', 'r') as file:\n",
    "    next(file)  # saltar la primera línea del encabezado de cada columna\n",
    "    for line in file:\n",
    "        fields = line.strip().split('|')\n",
    "        if fields[2] == 'Florida':\n",
    "            florida_cities.add(fields[0])  \n",
    "\n",
    "count = len(florida_cities)  \n",
    "print(f'Número de ciudades en Florida: {count}')"
   ]
  },
  {
   "cell_type": "markdown",
   "id": "78297df4-b95a-4cee-98e3-93f9d9ad7d96",
   "metadata": {},
   "source": [
    "#### Solución usando Pandas"
   ]
  },
  {
   "cell_type": "code",
   "execution_count": 17,
   "id": "cc2bad8c-f6a4-4a1f-b37d-5e9176fb8a67",
   "metadata": {},
   "outputs": [
    {
     "name": "stdout",
     "output_type": "stream",
     "text": [
      "Número de ciudades en Florida: 537\n"
     ]
    }
   ],
   "source": [
    "import requests\n",
    "import pandas as pd\n",
    "\n",
    "url = 'https://raw.githubusercontent.com/grammakov/USA-cities-and-states/master/us_cities_states_counties.csv'\n",
    "response = requests.get(url)\n",
    "\n",
    "with open('us_cities_states_counties.csv', 'wb') as file:\n",
    "    file.write(response.content)\n",
    "    \n",
    "df_cities_states = pd.read_csv('us_cities_states_counties.csv', sep = \"|\")\n",
    "#display(df_cities_states)\n",
    "\n",
    "count_florida_cities = df_cities_states.loc[df_cities_states[\"State full\"] == \"Florida\", \"City\"].nunique()\n",
    "print(f\"Número de ciudades en Florida: {count_florida_cities}\")"
   ]
  },
  {
   "cell_type": "markdown",
   "id": "controlling-referral",
   "metadata": {},
   "source": [
    "### A2 \n",
    "- Genera una matriz con valores aleatorios de 0 a 100 de dimensiones 16x16\n",
    "- Calcula los siguentes estadísticos en la matriz anterior, por fila (el resultado de cada uno debe ser un array de dimensiones 16x1)\n",
    "  - Suma de los elementos de cada fila\n",
    "  - Media de los elementos de cada fila\n",
    "  - Valores mínimos de cada fila\n",
    "  - Valores máximos de cada fila"
   ]
  },
  {
   "cell_type": "markdown",
   "id": "0e9866df-d5bd-40da-8ec9-f41c18847029",
   "metadata": {},
   "source": [
    "#### Genera una matriz con valores aleatorios de 0 a 100 de dimensiones 16x16"
   ]
  },
  {
   "cell_type": "code",
   "execution_count": 18,
   "id": "bd06a2ab-bad6-4cab-a774-3490e4f7fbd6",
   "metadata": {},
   "outputs": [
    {
     "name": "stdout",
     "output_type": "stream",
     "text": [
      "[[ 98  98  36  50  28  46  88  55  11   1  78  99  82  85  95  40]\n",
      " [ 90  87  87  46  75  50  21  31   7  76  24  66  21  29  64 100]\n",
      " [ 33  53  11  36  59  22  98  88  38  59   7  22  53  30  81  62]\n",
      " [ 34   3  19  87  68  68  50   6  49  80  22  79  84   4  52  72]\n",
      " [ 48  18  80  51  83  87  29  48  20  20  23   7  50  86  88  51]\n",
      " [ 99  33  30  79  88  19  46  87  56  93  96  59   8  54  78  11]\n",
      " [ 99  34  97  70  63  53  60  11  70  53  30  10  16  14  28  76]\n",
      " [ 15  97  11  51  83  16  85  57  69  32  46  39  68   9   0  51]\n",
      " [ 64  39  78  70  62  51  19  29  20  22   3  45  21  43  85  51]\n",
      " [ 86  12  21  90  39  90  49  53  34  46  89  67  53  77  64  39]\n",
      " [ 52  76  96  99  94  37  60  84  52  60  72  94  27   1  10  91]\n",
      " [ 83  14   9  84  95  59  80  66  34  65  25  65  19  69  88  43]\n",
      " [ 19   6  27   5  77 100 100  45  25  33  13   4  10  26  74  28]\n",
      " [ 76  29  24  99  69   8  14  36  19  59   0  20  25  87   9  65]\n",
      " [ 53  55  56  49  27  15  39  98  88  20  20   9  46   9  73  29]\n",
      " [ 29  16  70  98  60  55   5  83   5  13  11  32  97   8  69  59]]\n"
     ]
    }
   ],
   "source": [
    "import numpy as np\n",
    "\n",
    "mat = np.random.randint(101, size = (16, 16))\n",
    "print(mat)"
   ]
  },
  {
   "cell_type": "markdown",
   "id": "8285163e-861c-440e-a74c-4749ce3e10f6",
   "metadata": {},
   "source": [
    "#### Suma de los elementos de cada fila (el resultado de cada uno debe ser un array de dimensiones 16x1)\n"
   ]
  },
  {
   "cell_type": "code",
   "execution_count": 19,
   "id": "e6984d25-1f2e-4cde-9d85-5b4d9125e9a7",
   "metadata": {},
   "outputs": [
    {
     "name": "stdout",
     "output_type": "stream",
     "text": [
      "[[ 990]\n",
      " [ 874]\n",
      " [ 752]\n",
      " [ 777]\n",
      " [ 789]\n",
      " [ 936]\n",
      " [ 784]\n",
      " [ 729]\n",
      " [ 702]\n",
      " [ 909]\n",
      " [1005]\n",
      " [ 898]\n",
      " [ 592]\n",
      " [ 639]\n",
      " [ 686]\n",
      " [ 710]]\n"
     ]
    }
   ],
   "source": [
    "suma_filas = np.sum(mat, axis = 1).reshape(16, 1)\n",
    "print(suma_filas)"
   ]
  },
  {
   "cell_type": "markdown",
   "id": "4e3f16a6-5bf0-4637-91a5-a497a49f33c7",
   "metadata": {},
   "source": [
    "#### Media de los elementos de cada fila (el resultado de cada uno debe ser un array de dimensiones 16x1)"
   ]
  },
  {
   "cell_type": "code",
   "execution_count": 96,
   "id": "d25141b2-eedc-4df4-acc7-05e52e584f37",
   "metadata": {},
   "outputs": [
    {
     "name": "stdout",
     "output_type": "stream",
     "text": [
      "[[59.375 ]\n",
      " [40.5625]\n",
      " [55.875 ]\n",
      " [57.9375]\n",
      " [54.875 ]\n",
      " [57.375 ]\n",
      " [48.3125]\n",
      " [50.1875]\n",
      " [43.6875]\n",
      " [50.375 ]\n",
      " [65.75  ]\n",
      " [63.625 ]\n",
      " [59.    ]\n",
      " [59.375 ]\n",
      " [60.5   ]\n",
      " [54.6875]]\n"
     ]
    }
   ],
   "source": [
    "media_filas = np.mean(mat, axis = 1).reshape(16, 1)\n",
    "print(media_filas)"
   ]
  },
  {
   "cell_type": "markdown",
   "id": "0a570c89-4338-4b02-93b7-f17023b8d555",
   "metadata": {},
   "source": [
    "#### Valores mínimos de cada fila (el resultado de cada uno debe ser un array de dimensiones 16x1)"
   ]
  },
  {
   "cell_type": "code",
   "execution_count": 77,
   "id": "7108b7d4-e498-464c-930f-6ffc2b39d8cc",
   "metadata": {},
   "outputs": [
    {
     "name": "stdout",
     "output_type": "stream",
     "text": [
      "[[ 4]\n",
      " [ 0]\n",
      " [ 1]\n",
      " [20]\n",
      " [ 0]\n",
      " [ 5]\n",
      " [ 3]\n",
      " [ 1]\n",
      " [ 2]\n",
      " [ 1]\n",
      " [15]\n",
      " [ 1]\n",
      " [12]\n",
      " [10]\n",
      " [ 0]\n",
      " [ 1]]\n"
     ]
    }
   ],
   "source": [
    "min_filas = np.min(mat, axis = 1).reshape(16, 1)\n",
    "print(min_filas)"
   ]
  },
  {
   "cell_type": "markdown",
   "id": "cbcb0f08-f80f-4b45-86c9-c68d9af2c6af",
   "metadata": {},
   "source": [
    "#### Valores máximos de cada fila (el resultado de cada uno debe ser un array de dimensiones 16x1)"
   ]
  },
  {
   "cell_type": "code",
   "execution_count": 95,
   "id": "1aee4211-2dab-45d4-b308-3db3a006d968",
   "metadata": {},
   "outputs": [
    {
     "name": "stdout",
     "output_type": "stream",
     "text": [
      "[[ 94]\n",
      " [ 88]\n",
      " [ 93]\n",
      " [ 99]\n",
      " [100]\n",
      " [ 99]\n",
      " [ 93]\n",
      " [ 96]\n",
      " [ 97]\n",
      " [ 96]\n",
      " [ 93]\n",
      " [ 96]\n",
      " [ 89]\n",
      " [100]\n",
      " [ 99]\n",
      " [ 99]]\n"
     ]
    }
   ],
   "source": [
    "max_filas = np.max(mat, axis = 1).reshape(16, 1)\n",
    "print(max_filas)"
   ]
  },
  {
   "cell_type": "markdown",
   "id": "improving-championship",
   "metadata": {},
   "source": [
    "### A3\n",
    "- Explica y expón, con un ejemplo propio, el broadcasting de NumPy"
   ]
  },
  {
   "cell_type": "markdown",
   "id": "a41f9a97-fa11-4aa6-84b2-3ef7f8515eac",
   "metadata": {},
   "source": [
    "Por lo general, NumPy trabaja con operaciones entre matrices en la que se realiza una operación elemento a elemento. \n",
    "En el caso más simple, las dos matrices deben tener exactamente la misma dimensión para que la operación pueda realizarse correctamente. \n",
    "Pero, en caso de que las matrices no tengan las misma dimensión, entra en juego el Broadcasting.  \n",
    "\n",
    "El Broadcasting en NumPy es una técnica que permite realizar operaciones entre matrices con diferentes dimensiones. \n",
    "NumPy trata de igualar las dimensiones de las matrices para que la operación se pueda llevar a cabo. Esto es posible porque, en muchas ocasiones, \n",
    "las matrices que tienen formas diferentes pueden ser compatibles en términos de dimensiones y se pueden expandir para que se puedan aplicar las operaciones.\n",
    "\n",
    "En el EJEMPLO 1, el broadcasting lo que hace es agregar en el vector_b dos filas mas, con los mismos valores que la fila 0, igualando las dimensiones de la matriz_a 3x3.\n",
    "\n",
    "En el EJEMPLO 2, el broadcasting lo que hace es ampliar la matriz de 2x1 a una matriz de 2x2 duplicando la segunda columna.\n",
    "Se amplió la matriz de 2x1 a una matriz de 2x2. Se duplicó la columna de la matriz 2x1\n",
    "para que pudiera sumarse con la segunda columna de la matriz de 2x2.\n",
    "\n",
    "Estos son solo ejemplos simples de broadcasting. En general, broadcasting se puede aplicar para realizar operaciones con matrices de diferentes dimensiones, \n",
    "siempre que puedan ser compatibles en dimensiones. Esto puede hacer que el código sea más eficiente y fácil de escribir, especialmente cuando se trata de \n",
    "matrices grandes y complejas.\n"
   ]
  },
  {
   "cell_type": "code",
   "execution_count": 79,
   "id": "c8239170-77bc-446e-8e37-c94f580450ac",
   "metadata": {},
   "outputs": [
    {
     "name": "stdout",
     "output_type": "stream",
     "text": [
      "[[ 1  4  9]\n",
      " [ 4 10 18]\n",
      " [ 7 16 27]]\n",
      "-------------------------------------------------------\n",
      "[[ 6  7]\n",
      " [ 9 10]]\n"
     ]
    }
   ],
   "source": [
    "import numpy as np \n",
    "\n",
    "# EJEMPLO 1\n",
    "# Definimos una matriz de 3x3\n",
    "matriz_a = np.array([[1, 2, 3],\n",
    "                     [4, 5, 6],\n",
    "                     [7, 8, 9]])\n",
    "\n",
    "# Definimos un vector de 1x3\n",
    "vector_b = np.array([1, 2, 3])\n",
    "\n",
    "# Multiplicamos la matriz por el vector haciendo uso del broadcasting\n",
    "resultado = matriz_a * vector_b\n",
    "print(resultado)\n",
    "\n",
    "print(\"-------------------------------------------------------\")\n",
    "\n",
    "# EJEMPLO 2\n",
    "# matriz de 2x2\n",
    "mat_1 = np.array([[1, 2], \n",
    "                [3, 4]])\n",
    "\n",
    "# matriz de 2x1\n",
    "mat_2 = np.array([[5], \n",
    "                  [6]])\n",
    "\n",
    "# sumar las dos matrices utilizando el broadcasting\n",
    "resultado = mat_1 + mat_2\n",
    "\n",
    "print(resultado)\n"
   ]
  },
  {
   "cell_type": "markdown",
   "id": "announced-mortality",
   "metadata": {},
   "source": [
    "### A4 \n",
    "- Resolución de dos sistemas de ecuaciones\n",
    "    - $ A : \\begin{cases} -9y +  4x = 20 \\\\ -7y + 16x = 80                         \\end{cases}$\n",
    "    \n",
    "    - $ B : \\begin{cases} x - 2y + 3z = 7 \\\\ 2x + y + z = 4 \\\\ -3x + 2y -2z = -10 \\end{cases}$"
   ]
  },
  {
   "cell_type": "markdown",
   "id": "3aaf7118-519b-498a-8772-996b88165628",
   "metadata": {},
   "source": [
    "#### Resolución sistema A "
   ]
  },
  {
   "cell_type": "code",
   "execution_count": 5,
   "id": "dacc57a8-6ad9-4cde-b8b5-1d714ff4dbb1",
   "metadata": {},
   "outputs": [
    {
     "name": "stdout",
     "output_type": "stream",
     "text": [
      "La solución del sistema A de 2x2 es: x = 5.0 , y = -0.0\n"
     ]
    }
   ],
   "source": [
    "import numpy as np\n",
    "\n",
    "A = np.array([[4, -9], \n",
    "              [16, -7]])\n",
    "\n",
    "b = np.array([20, 80])\n",
    "\n",
    "x = np.linalg.solve(A, b)\n",
    "\n",
    "print(\"La solución del sistema A de 2x2 es: x =\", x[0], \", y =\", x[1])"
   ]
  },
  {
   "cell_type": "markdown",
   "id": "53912698-490a-4921-8d5c-e753bbd3bc60",
   "metadata": {},
   "source": [
    "#### Resolución sistema B"
   ]
  },
  {
   "cell_type": "code",
   "execution_count": 6,
   "id": "bfa36788-5a98-4fc4-bc8a-62c48a6e901d",
   "metadata": {},
   "outputs": [
    {
     "name": "stdout",
     "output_type": "stream",
     "text": [
      "La solución del sistema B de 3x3 es: x = 2.0 , y = -0.9999999999999998 , z = 1.0000000000000002\n"
     ]
    }
   ],
   "source": [
    "A = np.array([[1, -2, 3], \n",
    "              [2, 1, 1],\n",
    "              [-3, 2, -2]])\n",
    "\n",
    "b = np.array([7, 4, -10])\n",
    "\n",
    "x = np.linalg.solve(A, b)\n",
    "\n",
    "print(\"La solución del sistema B de 3x3 es: x =\", x[0], \", y =\", x[1], \", z =\", x[2])"
   ]
  },
  {
   "cell_type": "markdown",
   "id": "grave-summer",
   "metadata": {},
   "source": [
    "### A5\n",
    "- Crear un DataFrame de dimensiones 10x10, con números aleatorios en el rango `[0,20]`\n",
    "- Reemplazar todos aquellos elementos menores de 5 por NaN\n",
    "- Averiguar cuantos elementos tienen Nan por fila"
   ]
  },
  {
   "cell_type": "code",
   "execution_count": 7,
   "id": "55b83edf-52c6-4a6d-b3c1-63a73c5fdad1",
   "metadata": {},
   "outputs": [],
   "source": [
    "import pandas as pd\n",
    "import numpy as np"
   ]
  },
  {
   "cell_type": "markdown",
   "id": "0f83bc9b-5efb-4b17-8b65-0eeca7452ce1",
   "metadata": {},
   "source": [
    "#### Crear un DataFrame de dimensiones 10x10, con números aleatorios en el rango [0, 20]"
   ]
  },
  {
   "cell_type": "code",
   "execution_count": 8,
   "id": "dfec602b-1652-42fc-a831-eaf602df48dd",
   "metadata": {},
   "outputs": [
    {
     "data": {
      "text/html": [
       "<div>\n",
       "<style scoped>\n",
       "    .dataframe tbody tr th:only-of-type {\n",
       "        vertical-align: middle;\n",
       "    }\n",
       "\n",
       "    .dataframe tbody tr th {\n",
       "        vertical-align: top;\n",
       "    }\n",
       "\n",
       "    .dataframe thead th {\n",
       "        text-align: right;\n",
       "    }\n",
       "</style>\n",
       "<table border=\"1\" class=\"dataframe\">\n",
       "  <thead>\n",
       "    <tr style=\"text-align: right;\">\n",
       "      <th></th>\n",
       "      <th>0</th>\n",
       "      <th>1</th>\n",
       "      <th>2</th>\n",
       "      <th>3</th>\n",
       "      <th>4</th>\n",
       "      <th>5</th>\n",
       "      <th>6</th>\n",
       "      <th>7</th>\n",
       "      <th>8</th>\n",
       "      <th>9</th>\n",
       "    </tr>\n",
       "  </thead>\n",
       "  <tbody>\n",
       "    <tr>\n",
       "      <th>0</th>\n",
       "      <td>9</td>\n",
       "      <td>13</td>\n",
       "      <td>9</td>\n",
       "      <td>16</td>\n",
       "      <td>0</td>\n",
       "      <td>9</td>\n",
       "      <td>0</td>\n",
       "      <td>1</td>\n",
       "      <td>19</td>\n",
       "      <td>2</td>\n",
       "    </tr>\n",
       "    <tr>\n",
       "      <th>1</th>\n",
       "      <td>4</td>\n",
       "      <td>2</td>\n",
       "      <td>20</td>\n",
       "      <td>15</td>\n",
       "      <td>0</td>\n",
       "      <td>15</td>\n",
       "      <td>8</td>\n",
       "      <td>4</td>\n",
       "      <td>5</td>\n",
       "      <td>18</td>\n",
       "    </tr>\n",
       "    <tr>\n",
       "      <th>2</th>\n",
       "      <td>18</td>\n",
       "      <td>20</td>\n",
       "      <td>11</td>\n",
       "      <td>13</td>\n",
       "      <td>20</td>\n",
       "      <td>20</td>\n",
       "      <td>4</td>\n",
       "      <td>8</td>\n",
       "      <td>13</td>\n",
       "      <td>13</td>\n",
       "    </tr>\n",
       "    <tr>\n",
       "      <th>3</th>\n",
       "      <td>12</td>\n",
       "      <td>18</td>\n",
       "      <td>20</td>\n",
       "      <td>20</td>\n",
       "      <td>16</td>\n",
       "      <td>6</td>\n",
       "      <td>5</td>\n",
       "      <td>11</td>\n",
       "      <td>18</td>\n",
       "      <td>11</td>\n",
       "    </tr>\n",
       "    <tr>\n",
       "      <th>4</th>\n",
       "      <td>11</td>\n",
       "      <td>16</td>\n",
       "      <td>3</td>\n",
       "      <td>14</td>\n",
       "      <td>12</td>\n",
       "      <td>6</td>\n",
       "      <td>3</td>\n",
       "      <td>8</td>\n",
       "      <td>1</td>\n",
       "      <td>11</td>\n",
       "    </tr>\n",
       "    <tr>\n",
       "      <th>5</th>\n",
       "      <td>15</td>\n",
       "      <td>5</td>\n",
       "      <td>19</td>\n",
       "      <td>4</td>\n",
       "      <td>17</td>\n",
       "      <td>17</td>\n",
       "      <td>19</td>\n",
       "      <td>0</td>\n",
       "      <td>17</td>\n",
       "      <td>16</td>\n",
       "    </tr>\n",
       "    <tr>\n",
       "      <th>6</th>\n",
       "      <td>8</td>\n",
       "      <td>16</td>\n",
       "      <td>17</td>\n",
       "      <td>5</td>\n",
       "      <td>13</td>\n",
       "      <td>16</td>\n",
       "      <td>17</td>\n",
       "      <td>1</td>\n",
       "      <td>8</td>\n",
       "      <td>17</td>\n",
       "    </tr>\n",
       "    <tr>\n",
       "      <th>7</th>\n",
       "      <td>15</td>\n",
       "      <td>20</td>\n",
       "      <td>8</td>\n",
       "      <td>19</td>\n",
       "      <td>8</td>\n",
       "      <td>18</td>\n",
       "      <td>13</td>\n",
       "      <td>15</td>\n",
       "      <td>13</td>\n",
       "      <td>0</td>\n",
       "    </tr>\n",
       "    <tr>\n",
       "      <th>8</th>\n",
       "      <td>14</td>\n",
       "      <td>8</td>\n",
       "      <td>18</td>\n",
       "      <td>5</td>\n",
       "      <td>3</td>\n",
       "      <td>7</td>\n",
       "      <td>12</td>\n",
       "      <td>15</td>\n",
       "      <td>11</td>\n",
       "      <td>5</td>\n",
       "    </tr>\n",
       "    <tr>\n",
       "      <th>9</th>\n",
       "      <td>6</td>\n",
       "      <td>2</td>\n",
       "      <td>20</td>\n",
       "      <td>0</td>\n",
       "      <td>2</td>\n",
       "      <td>19</td>\n",
       "      <td>12</td>\n",
       "      <td>19</td>\n",
       "      <td>17</td>\n",
       "      <td>6</td>\n",
       "    </tr>\n",
       "  </tbody>\n",
       "</table>\n",
       "</div>"
      ],
      "text/plain": [
       "    0   1   2   3   4   5   6   7   8   9\n",
       "0   9  13   9  16   0   9   0   1  19   2\n",
       "1   4   2  20  15   0  15   8   4   5  18\n",
       "2  18  20  11  13  20  20   4   8  13  13\n",
       "3  12  18  20  20  16   6   5  11  18  11\n",
       "4  11  16   3  14  12   6   3   8   1  11\n",
       "5  15   5  19   4  17  17  19   0  17  16\n",
       "6   8  16  17   5  13  16  17   1   8  17\n",
       "7  15  20   8  19   8  18  13  15  13   0\n",
       "8  14   8  18   5   3   7  12  15  11   5\n",
       "9   6   2  20   0   2  19  12  19  17   6"
      ]
     },
     "metadata": {},
     "output_type": "display_data"
    }
   ],
   "source": [
    "data = np.random.randint(0, 21, size = (10, 10))\n",
    "\n",
    "df_data = pd.DataFrame(data)\n",
    "display(df_data)"
   ]
  },
  {
   "cell_type": "markdown",
   "id": "2eb8cbc0-f52c-4e94-b028-58b06654fd91",
   "metadata": {},
   "source": [
    "#### Reemplazar todos aquellos elementos menores de 5 por NaN"
   ]
  },
  {
   "cell_type": "code",
   "execution_count": 9,
   "id": "65bbab7b-52d6-4a41-bf82-ceef2fb4e797",
   "metadata": {},
   "outputs": [
    {
     "data": {
      "text/html": [
       "<div>\n",
       "<style scoped>\n",
       "    .dataframe tbody tr th:only-of-type {\n",
       "        vertical-align: middle;\n",
       "    }\n",
       "\n",
       "    .dataframe tbody tr th {\n",
       "        vertical-align: top;\n",
       "    }\n",
       "\n",
       "    .dataframe thead th {\n",
       "        text-align: right;\n",
       "    }\n",
       "</style>\n",
       "<table border=\"1\" class=\"dataframe\">\n",
       "  <thead>\n",
       "    <tr style=\"text-align: right;\">\n",
       "      <th></th>\n",
       "      <th>0</th>\n",
       "      <th>1</th>\n",
       "      <th>2</th>\n",
       "      <th>3</th>\n",
       "      <th>4</th>\n",
       "      <th>5</th>\n",
       "      <th>6</th>\n",
       "      <th>7</th>\n",
       "      <th>8</th>\n",
       "      <th>9</th>\n",
       "    </tr>\n",
       "  </thead>\n",
       "  <tbody>\n",
       "    <tr>\n",
       "      <th>0</th>\n",
       "      <td>9.0</td>\n",
       "      <td>13.0</td>\n",
       "      <td>9.0</td>\n",
       "      <td>16.0</td>\n",
       "      <td>NaN</td>\n",
       "      <td>9</td>\n",
       "      <td>NaN</td>\n",
       "      <td>NaN</td>\n",
       "      <td>19.0</td>\n",
       "      <td>NaN</td>\n",
       "    </tr>\n",
       "    <tr>\n",
       "      <th>1</th>\n",
       "      <td>NaN</td>\n",
       "      <td>NaN</td>\n",
       "      <td>20.0</td>\n",
       "      <td>15.0</td>\n",
       "      <td>NaN</td>\n",
       "      <td>15</td>\n",
       "      <td>8.0</td>\n",
       "      <td>NaN</td>\n",
       "      <td>5.0</td>\n",
       "      <td>18.0</td>\n",
       "    </tr>\n",
       "    <tr>\n",
       "      <th>2</th>\n",
       "      <td>18.0</td>\n",
       "      <td>20.0</td>\n",
       "      <td>11.0</td>\n",
       "      <td>13.0</td>\n",
       "      <td>20.0</td>\n",
       "      <td>20</td>\n",
       "      <td>NaN</td>\n",
       "      <td>8.0</td>\n",
       "      <td>13.0</td>\n",
       "      <td>13.0</td>\n",
       "    </tr>\n",
       "    <tr>\n",
       "      <th>3</th>\n",
       "      <td>12.0</td>\n",
       "      <td>18.0</td>\n",
       "      <td>20.0</td>\n",
       "      <td>20.0</td>\n",
       "      <td>16.0</td>\n",
       "      <td>6</td>\n",
       "      <td>5.0</td>\n",
       "      <td>11.0</td>\n",
       "      <td>18.0</td>\n",
       "      <td>11.0</td>\n",
       "    </tr>\n",
       "    <tr>\n",
       "      <th>4</th>\n",
       "      <td>11.0</td>\n",
       "      <td>16.0</td>\n",
       "      <td>NaN</td>\n",
       "      <td>14.0</td>\n",
       "      <td>12.0</td>\n",
       "      <td>6</td>\n",
       "      <td>NaN</td>\n",
       "      <td>8.0</td>\n",
       "      <td>NaN</td>\n",
       "      <td>11.0</td>\n",
       "    </tr>\n",
       "    <tr>\n",
       "      <th>5</th>\n",
       "      <td>15.0</td>\n",
       "      <td>5.0</td>\n",
       "      <td>19.0</td>\n",
       "      <td>NaN</td>\n",
       "      <td>17.0</td>\n",
       "      <td>17</td>\n",
       "      <td>19.0</td>\n",
       "      <td>NaN</td>\n",
       "      <td>17.0</td>\n",
       "      <td>16.0</td>\n",
       "    </tr>\n",
       "    <tr>\n",
       "      <th>6</th>\n",
       "      <td>8.0</td>\n",
       "      <td>16.0</td>\n",
       "      <td>17.0</td>\n",
       "      <td>5.0</td>\n",
       "      <td>13.0</td>\n",
       "      <td>16</td>\n",
       "      <td>17.0</td>\n",
       "      <td>NaN</td>\n",
       "      <td>8.0</td>\n",
       "      <td>17.0</td>\n",
       "    </tr>\n",
       "    <tr>\n",
       "      <th>7</th>\n",
       "      <td>15.0</td>\n",
       "      <td>20.0</td>\n",
       "      <td>8.0</td>\n",
       "      <td>19.0</td>\n",
       "      <td>8.0</td>\n",
       "      <td>18</td>\n",
       "      <td>13.0</td>\n",
       "      <td>15.0</td>\n",
       "      <td>13.0</td>\n",
       "      <td>NaN</td>\n",
       "    </tr>\n",
       "    <tr>\n",
       "      <th>8</th>\n",
       "      <td>14.0</td>\n",
       "      <td>8.0</td>\n",
       "      <td>18.0</td>\n",
       "      <td>5.0</td>\n",
       "      <td>NaN</td>\n",
       "      <td>7</td>\n",
       "      <td>12.0</td>\n",
       "      <td>15.0</td>\n",
       "      <td>11.0</td>\n",
       "      <td>5.0</td>\n",
       "    </tr>\n",
       "    <tr>\n",
       "      <th>9</th>\n",
       "      <td>6.0</td>\n",
       "      <td>NaN</td>\n",
       "      <td>20.0</td>\n",
       "      <td>NaN</td>\n",
       "      <td>NaN</td>\n",
       "      <td>19</td>\n",
       "      <td>12.0</td>\n",
       "      <td>19.0</td>\n",
       "      <td>17.0</td>\n",
       "      <td>6.0</td>\n",
       "    </tr>\n",
       "  </tbody>\n",
       "</table>\n",
       "</div>"
      ],
      "text/plain": [
       "      0     1     2     3     4   5     6     7     8     9\n",
       "0   9.0  13.0   9.0  16.0   NaN   9   NaN   NaN  19.0   NaN\n",
       "1   NaN   NaN  20.0  15.0   NaN  15   8.0   NaN   5.0  18.0\n",
       "2  18.0  20.0  11.0  13.0  20.0  20   NaN   8.0  13.0  13.0\n",
       "3  12.0  18.0  20.0  20.0  16.0   6   5.0  11.0  18.0  11.0\n",
       "4  11.0  16.0   NaN  14.0  12.0   6   NaN   8.0   NaN  11.0\n",
       "5  15.0   5.0  19.0   NaN  17.0  17  19.0   NaN  17.0  16.0\n",
       "6   8.0  16.0  17.0   5.0  13.0  16  17.0   NaN   8.0  17.0\n",
       "7  15.0  20.0   8.0  19.0   8.0  18  13.0  15.0  13.0   NaN\n",
       "8  14.0   8.0  18.0   5.0   NaN   7  12.0  15.0  11.0   5.0\n",
       "9   6.0   NaN  20.0   NaN   NaN  19  12.0  19.0  17.0   6.0"
      ]
     },
     "metadata": {},
     "output_type": "display_data"
    }
   ],
   "source": [
    "df_data = df_data.where(df_data >= 5, np.nan)\n",
    "display(df_data)"
   ]
  },
  {
   "cell_type": "markdown",
   "id": "9f09e9ec-5451-48f5-acc2-e384c13c166a",
   "metadata": {},
   "source": [
    "#### Averiguar cuantos elementos tienen NaN por fila\n"
   ]
  },
  {
   "cell_type": "code",
   "execution_count": 10,
   "id": "fc678cd8-112a-42e3-9ba7-1cec5984d1a8",
   "metadata": {},
   "outputs": [
    {
     "name": "stdout",
     "output_type": "stream",
     "text": [
      "0    4\n",
      "1    4\n",
      "2    1\n",
      "3    0\n",
      "4    3\n",
      "5    2\n",
      "6    1\n",
      "7    1\n",
      "8    1\n",
      "9    3\n",
      "dtype: int64\n"
     ]
    }
   ],
   "source": [
    "count_nan_by_row = df_data.isnull().sum(axis = 1)\n",
    "print(count_nan_by_row)"
   ]
  },
  {
   "cell_type": "markdown",
   "id": "acceptable-manner",
   "metadata": {},
   "source": [
    "### A6 \n",
    "- Se tienen tres datasets, se adjuntan sus datos como diccionarios\n",
    "  - Students, representa un conjunto de alumnos, con sus nombres, edad y sexo\n",
    "  - Subjects, un conjunto de asignaturas, con su nombre y el semestre en que se imparten\n",
    "  - Marks, un conjunto de notas que han obtenido los alumnos en las asignaturas\n",
    "- Obtener la siguiente información usando Pandas\n",
    "  - El nombre del alumno con la mejor nota, y en que asignatura ha sido\n",
    "  - Cuantos alumnos tienen asignaturas suspendidas en el primer semestre\n",
    "  - La media de edad de los asistentes a la asignatura de Python\n",
    "  - Formar una palabra con las iniciales de los nombres de los estudiantes ordenados por edad\n",
    "- Representar graficamente\n",
    "  - Las notas medias de todos los estudiantes por asignatura, agrupando por sexo\n",
    "  - La densidad bivariable de la edad de los estudiantes frente a sus notas, agrupando por sexo (mostrando los datos de dispersion en la zona central, las curvas de densidad en los ejes)"
   ]
  },
  {
   "cell_type": "code",
   "execution_count": 83,
   "id": "radio-theory",
   "metadata": {},
   "outputs": [],
   "source": [
    "students = {'StudentId': [1,2,3,4,5,6], 'Name' : ['Yael','Thomas','Paula','Orlando','Hannah','Nicole'], 'Age' : [22,31,19,44,39,51], 'Sex' : ['M', 'M', 'F', 'M', 'F', 'F']}\n",
    "subjects = {'SubjectId': [1,2,3], 'Name': ['Python', 'Math', 'DeepLearning'], 'Semester': [1, 1, 2]}\n",
    "marks = {'StudentId' : [2,2,1,3,6,4,4,3,2,5], 'SubjectId' : [1,3,1,2,1,2,3,1,2,1], 'Mark': [6,5,8,3,5,2,7,2,4,6]}"
   ]
  },
  {
   "cell_type": "markdown",
   "id": "39e24e7a-16fa-4763-85ca-c9d1635013a3",
   "metadata": {},
   "source": [
    "#### Acondicionamiento de los dataframes"
   ]
  },
  {
   "cell_type": "code",
   "execution_count": 84,
   "id": "25f7eaeb-136b-44c1-8090-dfe078eb0d21",
   "metadata": {},
   "outputs": [
    {
     "data": {
      "text/html": [
       "<div>\n",
       "<style scoped>\n",
       "    .dataframe tbody tr th:only-of-type {\n",
       "        vertical-align: middle;\n",
       "    }\n",
       "\n",
       "    .dataframe tbody tr th {\n",
       "        vertical-align: top;\n",
       "    }\n",
       "\n",
       "    .dataframe thead th {\n",
       "        text-align: right;\n",
       "    }\n",
       "</style>\n",
       "<table border=\"1\" class=\"dataframe\">\n",
       "  <thead>\n",
       "    <tr style=\"text-align: right;\">\n",
       "      <th></th>\n",
       "      <th>StudentId</th>\n",
       "      <th>Student_name</th>\n",
       "      <th>Age</th>\n",
       "      <th>Sex</th>\n",
       "      <th>SubjectId</th>\n",
       "      <th>Mark</th>\n",
       "      <th>Subject_name</th>\n",
       "      <th>Semester</th>\n",
       "    </tr>\n",
       "  </thead>\n",
       "  <tbody>\n",
       "    <tr>\n",
       "      <th>0</th>\n",
       "      <td>1</td>\n",
       "      <td>Yael</td>\n",
       "      <td>22</td>\n",
       "      <td>M</td>\n",
       "      <td>1</td>\n",
       "      <td>8</td>\n",
       "      <td>Python</td>\n",
       "      <td>1</td>\n",
       "    </tr>\n",
       "    <tr>\n",
       "      <th>1</th>\n",
       "      <td>2</td>\n",
       "      <td>Thomas</td>\n",
       "      <td>31</td>\n",
       "      <td>M</td>\n",
       "      <td>1</td>\n",
       "      <td>6</td>\n",
       "      <td>Python</td>\n",
       "      <td>1</td>\n",
       "    </tr>\n",
       "    <tr>\n",
       "      <th>2</th>\n",
       "      <td>3</td>\n",
       "      <td>Paula</td>\n",
       "      <td>19</td>\n",
       "      <td>F</td>\n",
       "      <td>1</td>\n",
       "      <td>2</td>\n",
       "      <td>Python</td>\n",
       "      <td>1</td>\n",
       "    </tr>\n",
       "    <tr>\n",
       "      <th>3</th>\n",
       "      <td>5</td>\n",
       "      <td>Hannah</td>\n",
       "      <td>39</td>\n",
       "      <td>F</td>\n",
       "      <td>1</td>\n",
       "      <td>6</td>\n",
       "      <td>Python</td>\n",
       "      <td>1</td>\n",
       "    </tr>\n",
       "    <tr>\n",
       "      <th>4</th>\n",
       "      <td>6</td>\n",
       "      <td>Nicole</td>\n",
       "      <td>51</td>\n",
       "      <td>F</td>\n",
       "      <td>1</td>\n",
       "      <td>5</td>\n",
       "      <td>Python</td>\n",
       "      <td>1</td>\n",
       "    </tr>\n",
       "    <tr>\n",
       "      <th>5</th>\n",
       "      <td>2</td>\n",
       "      <td>Thomas</td>\n",
       "      <td>31</td>\n",
       "      <td>M</td>\n",
       "      <td>3</td>\n",
       "      <td>5</td>\n",
       "      <td>DeepLearning</td>\n",
       "      <td>2</td>\n",
       "    </tr>\n",
       "    <tr>\n",
       "      <th>6</th>\n",
       "      <td>4</td>\n",
       "      <td>Orlando</td>\n",
       "      <td>44</td>\n",
       "      <td>M</td>\n",
       "      <td>3</td>\n",
       "      <td>7</td>\n",
       "      <td>DeepLearning</td>\n",
       "      <td>2</td>\n",
       "    </tr>\n",
       "    <tr>\n",
       "      <th>7</th>\n",
       "      <td>2</td>\n",
       "      <td>Thomas</td>\n",
       "      <td>31</td>\n",
       "      <td>M</td>\n",
       "      <td>2</td>\n",
       "      <td>4</td>\n",
       "      <td>Math</td>\n",
       "      <td>1</td>\n",
       "    </tr>\n",
       "    <tr>\n",
       "      <th>8</th>\n",
       "      <td>3</td>\n",
       "      <td>Paula</td>\n",
       "      <td>19</td>\n",
       "      <td>F</td>\n",
       "      <td>2</td>\n",
       "      <td>3</td>\n",
       "      <td>Math</td>\n",
       "      <td>1</td>\n",
       "    </tr>\n",
       "    <tr>\n",
       "      <th>9</th>\n",
       "      <td>4</td>\n",
       "      <td>Orlando</td>\n",
       "      <td>44</td>\n",
       "      <td>M</td>\n",
       "      <td>2</td>\n",
       "      <td>2</td>\n",
       "      <td>Math</td>\n",
       "      <td>1</td>\n",
       "    </tr>\n",
       "  </tbody>\n",
       "</table>\n",
       "</div>"
      ],
      "text/plain": [
       "   StudentId Student_name  Age Sex  SubjectId  Mark  Subject_name  Semester\n",
       "0          1         Yael   22   M          1     8        Python         1\n",
       "1          2       Thomas   31   M          1     6        Python         1\n",
       "2          3        Paula   19   F          1     2        Python         1\n",
       "3          5       Hannah   39   F          1     6        Python         1\n",
       "4          6       Nicole   51   F          1     5        Python         1\n",
       "5          2       Thomas   31   M          3     5  DeepLearning         2\n",
       "6          4      Orlando   44   M          3     7  DeepLearning         2\n",
       "7          2       Thomas   31   M          2     4          Math         1\n",
       "8          3        Paula   19   F          2     3          Math         1\n",
       "9          4      Orlando   44   M          2     2          Math         1"
      ]
     },
     "metadata": {},
     "output_type": "display_data"
    }
   ],
   "source": [
    "import pandas as pd\n",
    "\n",
    "df_students = pd.DataFrame(students)\n",
    "#display(df_students)\n",
    "\n",
    "df_subjects = pd.DataFrame(subjects)\n",
    "#display(df_subjects)\n",
    "\n",
    "df_marks = pd.DataFrame(marks)\n",
    "#display(df_marks)\n",
    "\n",
    "df_students_marks = pd.merge(df_students, df_marks, on = \"StudentId\")\n",
    "#display(df_students_marks)\n",
    "df_general = pd.merge(df_students_marks, df_subjects, on = \"SubjectId\")\n",
    "df_general = df_general.rename(columns = {\"Name_x\": \"Student_name\"})\n",
    "df_general = df_general.rename(columns = {\"Name_y\": \"Subject_name\"})\n",
    "display(df_general)"
   ]
  },
  {
   "cell_type": "markdown",
   "id": "4f758307-eb73-4443-a9ea-9ad988638fd8",
   "metadata": {},
   "source": [
    "#### El nombre del alumno con la mejor nota, y en que asignatura ha sido\n"
   ]
  },
  {
   "cell_type": "code",
   "execution_count": 85,
   "id": "1ee42ba0-5a93-491d-bda3-230158d89d1a",
   "metadata": {},
   "outputs": [
    {
     "name": "stdout",
     "output_type": "stream",
     "text": [
      "El alumno con mejor nota es Yael (8), en la asignatura Python.\n"
     ]
    }
   ],
   "source": [
    "best_mark = df_general.sort_values(\"Mark\", ascending = False).iloc[0]\n",
    "#display(best_mark)\n",
    "\n",
    "print(f\"El alumno con mejor nota es {best_mark['Student_name']} ({best_mark['Mark']}), en la asignatura {best_mark['Subject_name']}.\")"
   ]
  },
  {
   "cell_type": "markdown",
   "id": "a1740ab2-b57c-47ec-8ed2-8b21a5d91649",
   "metadata": {},
   "source": [
    "#### Cuantos alumnos tienen asignaturas suspendidas en el primer semestre"
   ]
  },
  {
   "cell_type": "code",
   "execution_count": 86,
   "id": "36fc153c-936f-470a-9a8b-f17c5b1c26f8",
   "metadata": {},
   "outputs": [
    {
     "name": "stdout",
     "output_type": "stream",
     "text": [
      "Hay 3 alumnos que tienen asignaturas repobadas en el primer semestre.\n"
     ]
    }
   ],
   "source": [
    "df_first_semester = df_general[df_general[\"Semester\"] == 1]\n",
    "df_failed = df_first_semester[df_first_semester[\"Mark\"] < 5]\n",
    "#print(df_failed)\n",
    "\n",
    "count_students_failed = df_failed.groupby(\"StudentId\")[\"Student_name\"].nunique().count()\n",
    "\n",
    "print(f\"Hay {count_students_failed} alumnos que tienen asignaturas repobadas en el primer semestre.\")"
   ]
  },
  {
   "cell_type": "markdown",
   "id": "e24aee95-0254-4b12-9d0d-a47193dab1f2",
   "metadata": {},
   "source": [
    "#### La media de edad de los asistentes a la asignatura de Python"
   ]
  },
  {
   "cell_type": "code",
   "execution_count": 87,
   "id": "2dccd53d-3833-40bb-a6c6-3b5dd72b9db1",
   "metadata": {},
   "outputs": [
    {
     "name": "stdout",
     "output_type": "stream",
     "text": [
      "El promedio de edad de los asistentes a la asignatura de Python es de 32.4 años.\n"
     ]
    }
   ],
   "source": [
    "df_python_assistants = df_general[df_general[\"Subject_name\"] == \"Python\"]\n",
    "#print(df_python_assistants)\n",
    "\n",
    "avg_age_python_assistants = df_python_assistants[\"Age\"].mean()\n",
    "\n",
    "print(f\"El promedio de edad de los asistentes a la asignatura de Python es de {avg_age_python_assistants} años.\")"
   ]
  },
  {
   "cell_type": "markdown",
   "id": "4d4ae86c-ba5a-4093-a372-80e7f974eee4",
   "metadata": {},
   "source": [
    "#### Formar una palabra con las iniciales de los nombres de los estudiantes ordenados por edad"
   ]
  },
  {
   "cell_type": "code",
   "execution_count": 88,
   "id": "e1b5c404-86a2-4dcc-88c8-b8ead301833b",
   "metadata": {},
   "outputs": [
    {
     "name": "stdout",
     "output_type": "stream",
     "text": [
      "La palabra que se forma con las iniciales de los estudiantes ordenados por edad es: PYTHON\n"
     ]
    }
   ],
   "source": [
    "name_ordered_by_age = df_general.sort_values(\"Age\", ascending = True)\n",
    "#print(name_ordered_by_age)\n",
    "initials_letters = name_ordered_by_age[\"Student_name\"].str[0].unique()\n",
    "#print(initials_letters)\n",
    "\n",
    "word_formed_with_initials = \"\".join(initials_letters)\n",
    "\n",
    "print(f\"La palabra que se forma con las iniciales de los estudiantes ordenados por edad es: {word_formed_with_initials}\")"
   ]
  },
  {
   "cell_type": "markdown",
   "id": "6f1228b4-09cd-4d85-96a4-fd1fdaca1c2a",
   "metadata": {},
   "source": [
    "#### Representar graficamente las notas medias de todos los estudiantes por asignatura, agrupando por sexo."
   ]
  },
  {
   "cell_type": "code",
   "execution_count": 90,
   "id": "5235e46d-7047-4ddc-9f93-ef7d08b3672e",
   "metadata": {},
   "outputs": [
    {
     "name": "stdout",
     "output_type": "stream",
     "text": [
      "  Sex  Subject_name      Mark\n",
      "0   F          Math  3.000000\n",
      "1   F        Python  4.333333\n",
      "2   M  DeepLearning  6.000000\n",
      "3   M          Math  3.000000\n",
      "4   M        Python  7.000000\n"
     ]
    },
    {
     "data": {
      "image/png": "[encoded data removed]",
      "text/plain": [
       "<Figure size 640x480 with 1 Axes>"
      ]
     },
     "metadata": {},
     "output_type": "display_data"
    }
   ],
   "source": [
    "import seaborn as sns\n",
    "import matplotlib.pyplot as plt\n",
    "\n",
    "df_mean_marks_by_sex = df_general.groupby(['Sex', 'Subject_name'])['Mark'].mean().reset_index() # La función reset_index() se utiliza para convertir los índices de las filas del DataFrame en columnas.\n",
    "print(df_mean_marks_by_sex)\n",
    "\n",
    "sns.barplot(x = 'Subject_name', y = 'Mark', hue = 'Sex', data = df_mean_marks_by_sex)\n",
    "plt.title(\"Promedio de notas por asignatura y sexo\")\n",
    "plt.show()"
   ]
  },
  {
   "cell_type": "markdown",
   "id": "4ccd9f90-c321-4891-9e4a-543f21b1520a",
   "metadata": {},
   "source": [
    "#### La densidad bivariable de la edad de los estudiantes frente a sus notas, agrupando por sexo (mostrando los datos de dispersion en la zona central, las curvas de densidad en los ejes)"
   ]
  },
  {
   "cell_type": "code",
   "execution_count": 91,
   "id": "737ddd6e-226f-47c1-98c0-0e02338eadda",
   "metadata": {},
   "outputs": [
    {
     "data": {
      "image/png": "[encoded data removed]",
      "text/plain": [
       "<Figure size 600x600 with 3 Axes>"
      ]
     },
     "metadata": {},
     "output_type": "display_data"
    }
   ],
   "source": [
    "sns.jointplot(df_general, x = 'Age', y = 'Mark', hue = 'Sex')\n",
    "plt.show()"
   ]
  },
  {
   "cell_type": "markdown",
   "id": "seven-trout",
   "metadata": {},
   "source": [
    "### A7 \n",
    "- Dadas dos Series de Pandas, implementar una función 'find_not_common' para encontrar los elementos no comunes a ambas Series\n",
    "- Se proveen dos series como referencia, el resultado para este ejemplo debe ser una serie con los elementos [4, 6, 14, 16]"
   ]
  },
  {
   "cell_type": "code",
   "execution_count": 13,
   "id": "residential-empty",
   "metadata": {},
   "outputs": [],
   "source": [
    "import pandas as pd\n",
    "\n",
    "p1 = pd.Series([2, 4, 12, 6, 8, 10])\n",
    "p2 = pd.Series([8, 10, 12, 10, 14, 2, 16, 10])"
   ]
  },
  {
   "cell_type": "markdown",
   "id": "86bea2f9-1bc7-4949-9dbb-59da0d4d7e54",
   "metadata": {},
   "source": [
    "#### Creación de la función \"find_not_common\""
   ]
  },
  {
   "cell_type": "code",
   "execution_count": 14,
   "id": "9bad2497-cebb-4cb4-b97d-410448415680",
   "metadata": {},
   "outputs": [],
   "source": [
    "def find_not_common(p1, p2):\n",
    "    p1_p2_concatenated = pd.concat([p1, p2])\n",
    "    number_of_occurrences_per_element = p1_p2_concatenated.value_counts()\n",
    "    not_common = number_of_occurrences_per_element[number_of_occurrences_per_element == 1]\n",
    "    return pd.Series(not_common.index)"
   ]
  },
  {
   "cell_type": "markdown",
   "id": "0fa5d779-e3ca-42ab-81cb-9c9c5c996716",
   "metadata": {},
   "source": [
    "#### Testeo"
   ]
  },
  {
   "cell_type": "code",
   "execution_count": 15,
   "id": "b2d563df-f534-40ba-981d-b98febaab7a8",
   "metadata": {},
   "outputs": [
    {
     "name": "stdout",
     "output_type": "stream",
     "text": [
      "True\n"
     ]
    }
   ],
   "source": [
    "print(find_not_common(p1, p2).equals(pd.Series([4, 6, 14, 16]))) # Esto deberia imprimir True"
   ]
  }
 ],
 "metadata": {
  "kernelspec": {
   "display_name": "Python 3 (ipykernel)",
   "language": "python",
   "name": "python3"
  },
  "language_info": {
   "codemirror_mode": {
    "name": "ipython",
    "version": 3
   },
   "file_extension": ".py",
   "mimetype": "text/x-python",
   "name": "python",
   "nbconvert_exporter": "python",
   "pygments_lexer": "ipython3",
   "version": "3.11.0"
  }
 },
 "nbformat": 4,
 "nbformat_minor": 5
}
